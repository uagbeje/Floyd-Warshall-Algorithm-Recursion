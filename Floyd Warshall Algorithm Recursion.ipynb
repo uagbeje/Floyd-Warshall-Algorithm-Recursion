{
 "cells": [
  {
   "cell_type": "code",
   "execution_count": null,
   "id": "ef5779df-c0ef-4153-a623-56e95c9dea3a",
   "metadata": {},
   "outputs": [],
   "source": [
    "# For more information please refer to the 'Recursive Implementation of the Floyd Warshall Algorithm' Word document for\n",
        "\n",
    "# The following code has been produced in accordance with PEP-8 standards."
   ]
  },
  {
   "cell_type": "code",
   "execution_count": null,
   "id": "a74aeefc-65b8-4b6e-8b91-287a73253d8a",
   "metadata": {},
   "outputs": [],
   "source": [
    "# Package imports\n",
    "import itertools\n",
    "import sys\n",
    "\n",
    "# Speed performance testing\n",
    "import timeit\n",
    "\n",
    "# Unit testing\n",
    "import unittest"
   ]
  },
  {
   "cell_type": "code",
   "execution_count": null,
   "id": "8cdf15f0-9dcb-4609-b835-c9a7fdf1b66c",
   "metadata": {},
   "outputs": [],
   "source": [
    "#Iterative Implementation"
   ]
  },
  {
   "cell_type": "code",
   "execution_count": null,
   "id": "aa51cd44-c6d0-4294-a7b5-672ec0e6addc",
   "metadata": {},
   "outputs": [],
   "source": [
    "# Defines large numbers as sys.maxsize to represent nodes with no relationship\n",
    "\n",
    "NO_PATH = sys.maxsize\n",
    "\n",
    "graph = [[0, 7, NO_PATH, 8],\n",
    "[NO_PATH, 0, 5, NO_PATH],\n",
    "[NO_PATH, NO_PATH, 0, 2],\n",
    "[NO_PATH, NO_PATH, NO_PATH, 0]]\n",
    "\n",
    "MAX_LENGTH = len(graph[0])"
   ]
  },
  {
   "cell_type": "code",
   "execution_count": 8,
   "id": "7dd3e445-4e54-4a56-9256-01e524572fae",
   "metadata": {},
   "outputs": [
    {
     "name": "stdout",
     "output_type": "stream",
     "text": [
      "Graph before updated distances:\n",
      " [[0, 7, 9223372036854775807, 8], [9223372036854775807, 0, 5, 9223372036854775807], [9223372036854775807, 9223372036854775807, 0, 2], [9223372036854775807, 9223372036854775807, 9223372036854775807, 0]]\n"
     ]
    }
   ],
   "source": [
    "print(f'Graph before updated distances:\\n {graph}')"
   ]
  },
  {
   "cell_type": "code",
   "execution_count": null,
   "id": "f84100ea-cb9a-4870-8bc0-401773756ac0",
   "metadata": {},
   "outputs": [],
   "source": [
    "# The iterative function to determine shortest distance between each graph node\n",
    "\n",
    "def floyd(distance):\n",
    "    \"\"\"\n",
    "    A simple implementation of Floyd's algorithm\n",
    "    \"\"\"\n",
    "    for intermediate, start_node,end_node in itertools.product(range(MAX_LENGTH),range(MAX_LENGTH), range(MAX_LENGTH)):\n",
    "    # Assume that if start_node and end_node are the same\n",
    "    # then the distance would be zero\n",
    "        if start_node == end_node:\n",
    "            distance[start_node][end_node] = 0\n",
    "            continue\n",
    "            \n",
    "        # Return all possible paths and find the minimum\n",
    "    \n",
    "        distance[start_node][end_node] = min(distance[start_node][end_node],\n",
    "        distance[start_node][intermediate] + distance[intermediate][end_node] )\n",
    "        \n",
    "        #Any value that have sys.maxsize has no path\n",
    "        \n",
    "floyd(graph)"
   ]
  },
  {
   "cell_type": "code",
   "execution_count": 9,
   "id": "eecfd871-82be-4143-8fb1-2b3fc3e53a89",
   "metadata": {},
   "outputs": [
    {
     "name": "stdout",
     "output_type": "stream",
     "text": [
      "Graph after updated distances:\n",
      " [[0, 7, 9223372036854775807, 8], [9223372036854775807, 0, 5, 9223372036854775807], [9223372036854775807, 9223372036854775807, 0, 2], [9223372036854775807, 9223372036854775807, 9223372036854775807, 0]]\n"
     ]
    }
   ],
   "source": [
    "print(f'Graph after updated distances:\\n {graph}')"
   ]
  },
  {
   "cell_type": "code",
   "execution_count": null,
   "id": "03d5a4e7-8519-429b-8573-f263d2a7e273",
   "metadata": {},
   "outputs": [],
   "source": [
    "#Recursive Implementation"
   ]
  },
  {
   "cell_type": "code",
   "execution_count": null,
   "id": "ae83b408-8f85-4769-95b7-5e1c1cce015a",
   "metadata": {},
   "outputs": [],
   "source": [
    "# This is a 4x4 graph that the algorithm will refer to\n",
    "# graph = [[0, 7, NO_PATH, 8],\n",
    "# [NO_PATH, 0, 5, NO_PATH],\n",
    "# [NO_PATH, NO_PATH, 0, 2],\n",
    "# [NO_PATH, NO_PATH, NO_PATH, 0]]\n",
    "\n",
    "# Recursive function to determine shortest distance between each graph node\n",
    "def floyd_recursive(graph):\n",
    "    \"\"\"\n",
    "    Function for recursive implementation of Floyd Warshall Algorithm\n",
    "    \"\"\"\n",
    "    INF = sys.maxsize\n",
    "    MAX_LENGTH = len(graph[0])\n",
    "    \n",
    "    # Creates a template distance matrix which is the same size as the input graph\n",
    "    distance = []\n",
    "    for _ in range(MAX_LENGTH):\n",
    "        distance.append([INF, INF, INF, INF])\n",
    "    \n",
    "    # Replaces the values in distance with the corresponding value in graph\n",
    "    for start_node in range(MAX_LENGTH):\n",
    "        for end_node in range(MAX_LENGTH):\n",
    "            distance[start_node][end_node] = graph[start_node][end_node]\n",
    "\n",
    "    # Checks that new graph (distance) is equal to the original graph (graph)         \n",
    "    assert distance == graph\n",
    "    \n",
    "    # Nested recursive function that enables parent function to call itself\n",
    "    def update_distances(start_node, end_node, intermediate):\n",
    "        if start_node == end_node:\n",
    "            distance[start_node][end_node] = 0\n",
    "            return\n",
    "\n",
    "        distance[start_node][end_node] = min(distance[start_node][end_node],\n",
    "        distance[start_node][intermediate] + distance[intermediate][end_node] )\n",
    "        \n",
    "        # Updates the distance matrix by considering all possible intermediate \n",
    "        # vertices between the start node and end node\n",
    "        if intermediate > MAX_LENGTH-1:\n",
    "            update_distance(start_node, end_node, intermediate+1)\n",
    "            update_distance(start_node, intermediate, intermediate+1)\n",
    "            update_distance(intermediate, end_node, intermediate+1)\n",
    "    \n",
    "    # Itertools allows iteration through each node in one line rather than through nested for loops\n",
    "    # This loop updates the graph to represent distances\n",
    "    for intermediate, start_node, end_node in itertools.product(range(MAX_LENGTH), range(MAX_LENGTH), range(MAX_LENGTH)):\n",
    "        update_distances(start_node, end_node, intermediate)\n",
    "        \n",
    "    return distance            \n",
    "\n"
   ]
  },
  {
   "cell_type": "code",
   "execution_count": null,
   "id": "28a44e1f-f4f6-4ad0-a18d-e0773bfc4a92",
   "metadata": {},
   "outputs": [],
   "source": [
    "Performance Test"
   ]
  },
  {
   "cell_type": "code",
   "execution_count": null,
   "id": "2bdec02f-e199-46b3-afed-f431936e51cd",
   "metadata": {},
   "outputs": [],
   "source": [
    "graph = [[0, 5, INF, 10],\n",
    "         [INF, 0, 3, INF],\n",
    "         [INF, INF, 0,   1],\n",
    "         [INF, INF, INF, 0]\n",
    "         ]\n",
    "\n",
    "# Speed performance test for iterative version\n",
    "iterative_time = timeit.timeit(lambda: floyd(graph), number=1000)\n",
    "\n",
    "\n",
    "print(f\"The iterative version has taken {iterative_time/1000:.6f} seconds to run\") \n",
    "\n",
    "\n",
    "graph = [[0, 5, INF, 10],\n",
    "         [INF, 0, 3, INF],\n",
    "         [INF, INF, 0,   1],\n",
    "         [INF, INF, INF, 0]\n",
    "         ]\n",
    "\n",
    "# Speed performance test for recursive version\n",
    "recursive_time = timeit.timeit(lambda: floyd_recursive(graph), number=1000)\n",
    "print(f\"The recursive version has taken {recursive_time/1000:.6f} seconds to run\")"
   ]
  },
  {
   "cell_type": "code",
   "execution_count": null,
   "id": "7f8e4e03-ab25-4c87-96e7-95c4f812f88a",
   "metadata": {},
   "outputs": [],
   "source": [
    "The iterative version has taken 0.000059 seconds to run\n",
    "The recursive version has taken 0.000088 seconds to run"
   ]
  },
  {
   "cell_type": "code",
   "execution_count": null,
   "id": "9b13e8ae-62f4-4693-b3c3-6aae4d8f3668",
   "metadata": {},
   "outputs": [],
   "source": [
    "Unit Test"
   ]
  },
  {
   "cell_type": "code",
   "execution_count": 16,
   "id": "9a81e1f9-1462-4c65-8419-6119b90743e6",
   "metadata": {},
   "outputs": [],
   "source": [
    "# Test function for final unit test\n",
    "\n",
    "def test_floyd():\n",
    "    \"\"\"\n",
    "    Function to check recursive output matches imperative graph\n",
    "    \"\"\"\n",
    "    # Iterative values will replace the values in graph 1\n",
    "    graph_1 = [[0, 7, NO_PATH, 8],\n",
    "    [NO_PATH, 0, 5, NO_PATH],\n",
    "    [NO_PATH, NO_PATH, 0, 2],\n",
    "    [NO_PATH, NO_PATH, NO_PATH, 0]]\n",
    "    \n",
    "    floyd(graph_1)\n",
    "\n",
    "    # Recursive values will output a new graph (graph 2) which will then be used to check against graph 1\n",
    "    # to confirm values are correct\n",
    "    graph_2 = [[0, 7, NO_PATH, 8],\n",
    "    [NO_PATH, 0, 5, NO_PATH],\n",
    "    [NO_PATH, NO_PATH, 0, 2],\n",
    "    [NO_PATH, NO_PATH, NO_PATH, 0]]\n",
    "    \n",
    "    # Assert is used to check graph_2 values match iterative values populated in graph_1\n",
    "    assert graph_1 == floyd_recursive(graph_2)\n",
    "\n",
    "    print('Recursive function matches iterative output')"
   ]
  },
  {
   "cell_type": "code",
   "execution_count": null,
   "id": "876e022f-7ff6-42d8-9869-7268abbdc607",
   "metadata": {},
   "outputs": [],
   "source": [
    "test_floyd()"
   ]
  },
  {
   "cell_type": "code",
   "execution_count": null,
   "id": "3e4eae7e-1d40-470e-90f4-c27d59e9c5bb",
   "metadata": {},
   "outputs": [],
   "source": [
    "Recursive function matches iterative output"
   ]
  },
  {
   "cell_type": "code",
   "execution_count": null,
   "id": "57ece13a-a9a0-43cb-9c7f-ab75fdaf7540",
   "metadata": {},
   "outputs": [],
   "source": [
    "# Unit test class that takes in each function\n",
    "class TestPerformance(unittest.TestCase):\n",
    "\n",
    "    def floyd(self):\n",
    "        self.assertTrue([[0, 7, 12, 8], [9223372036854775807, 0, 5, 7], [9223372036854775807, 9223372036854775807, 0, 2], [9223372036854775807, 9223372036854775807, 9223372036854775807, 0]])\n",
    "        self.assertFalse(())\n",
    "\n",
    "if __name__ == '__main__':\n",
    "    unittest.main()"
   ]
  },
  {
   "cell_type": "code",
   "execution_count": null,
   "id": "72b1926a-5710-4f26-88ee-248ebb5ad242",
   "metadata": {},
   "outputs": [],
   "source": []
  }
 ],
 "metadata": {
  "kernelspec": {
   "display_name": "anaconda-2024.02-py310",
   "language": "python",
   "name": "conda-env-anaconda-2024.02-py310-py"
  },
  "language_info": {
   "codemirror_mode": {
    "name": "ipython",
    "version": 3
   },
   "file_extension": ".py",
   "mimetype": "text/x-python",
   "name": "python",
   "nbconvert_exporter": "python",
   "pygments_lexer": "ipython3",
   "version": "3.10.14"
  }
 },
 "nbformat": 4,
 "nbformat_minor": 5
}
